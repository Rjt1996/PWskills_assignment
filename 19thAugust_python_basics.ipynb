{
 "cells": [
  {
   "cell_type": "code",
   "execution_count": 14,
   "id": "f6dc258b-49bb-4b16-960e-70516365bde6",
   "metadata": {},
   "outputs": [
    {
     "name": "stdin",
     "output_type": "stream",
     "text": [
      " 56\n",
      " 78\n"
     ]
    },
    {
     "name": "stdout",
     "output_type": "stream",
     "text": [
      "value of a is 78\n",
      "the value of b is  56\n"
     ]
    }
   ],
   "source": [
    "#swapping the value of two variables\n",
    "a=int(input())\n",
    "b=int(input())\n",
    "a=a+b\n",
    "b=a-b\n",
    "a=a-b\n",
    "print(\"value of a is\",a)\n",
    "print(\"the value of b is \",b)\n"
   ]
  },
  {
   "cell_type": "code",
   "execution_count": 21,
   "id": "a09b0a56-cbc4-4632-a419-bc1223eccf32",
   "metadata": {},
   "outputs": [
    {
     "name": "stdin",
     "output_type": "stream",
     "text": [
      "Length of rectangle is: 87\n",
      "breadth of rectangle is: 64\n"
     ]
    },
    {
     "name": "stdout",
     "output_type": "stream",
     "text": [
      "area of the rectangle is 5568.0\n"
     ]
    }
   ],
   "source": [
    "#program to calculate area of a rectangle\n",
    "l=float(input(\"Length of rectangle is:\"))\n",
    "b=int(input(\"breadth of rectangle is:\"))\n",
    "area=l*b\n",
    "print(\"area of the rectangle is\",area)\n"
   ]
  },
  {
   "cell_type": "code",
   "execution_count": 23,
   "id": "3386f618-a264-45db-9c03-af30615f3aca",
   "metadata": {},
   "outputs": [
    {
     "name": "stdin",
     "output_type": "stream",
     "text": [
      "enter your temperature in celcius: 67\n"
     ]
    },
    {
     "name": "stdout",
     "output_type": "stream",
     "text": [
      "temperature in farenheit is: 152.60000000000002\n"
     ]
    }
   ],
   "source": [
    "#program that converts temperatures from Celsius to Fahrenheit.\n",
    "c=float(input(\"enter your temperature in celcius:\"))\n",
    "f=1.8*c+32\n",
    "print(\"temperature in farenheit is:\",f)\n"
   ]
  },
  {
   "cell_type": "code",
   "execution_count": 25,
   "id": "25dc20e9-cde1-49b8-9a9b-f9e57d0e2493",
   "metadata": {},
   "outputs": [
    {
     "name": "stdin",
     "output_type": "stream",
     "text": [
      "enter your string hey are you doing programming\n"
     ]
    },
    {
     "data": {
      "text/plain": [
       "29"
      ]
     },
     "execution_count": 25,
     "metadata": {},
     "output_type": "execute_result"
    }
   ],
   "source": [
    "#Python program that takes a string as input and prints the length of the string.\n",
    "s=input(\"enter your string\")\n",
    "len(s)"
   ]
  },
  {
   "cell_type": "code",
   "execution_count": 27,
   "id": "cbecdd67-fefb-4747-b2c6-602a489d4a1b",
   "metadata": {},
   "outputs": [
    {
     "name": "stdin",
     "output_type": "stream",
     "text": [
      "Enter string: hey you are you there\n"
     ]
    },
    {
     "name": "stdout",
     "output_type": "stream",
     "text": [
      "Number of vowels are:\n",
      "9\n"
     ]
    }
   ],
   "source": [
    "#printing the no. of vowels in a string\n",
    "string=input(\"Enter string:\")\n",
    "vowels=0\n",
    "for i in string:\n",
    "      if(i=='a' or i=='e' or i=='i' or i=='o' or i=='u' or i=='A' or i=='E' or i=='I' or i=='O' or i=='U'):\n",
    "            vowels=vowels+1\n",
    "print(\"Number of vowels are:\")\n",
    "print(vowels)\n"
   ]
  },
  {
   "cell_type": "code",
   "execution_count": 28,
   "id": "a434a4bf-ddf7-496b-b3bc-7e5d06489229",
   "metadata": {},
   "outputs": [
    {
     "name": "stdin",
     "output_type": "stream",
     "text": [
      "Enter your string hey you are you GOING to play tonight\n"
     ]
    },
    {
     "data": {
      "text/plain": [
       "'thginot yalp ot GNIOG uoy era uoy yeh'"
      ]
     },
     "execution_count": 28,
     "metadata": {},
     "output_type": "execute_result"
    }
   ],
   "source": [
    "#reverse the order of characters using string slicing\n",
    "s=input(\"Enter your string\")\n",
    "s[::-1]"
   ]
  },
  {
   "cell_type": "code",
   "execution_count": 47,
   "id": "5648f13b-4819-4c4c-858c-cc1735a822f1",
   "metadata": {},
   "outputs": [
    {
     "name": "stdin",
     "output_type": "stream",
     "text": [
      "Enter the string to check if it is a palindrome: madam\n"
     ]
    },
    {
     "name": "stdout",
     "output_type": "stream",
     "text": [
      "The string is a palindrome\n"
     ]
    }
   ],
   "source": [
    "#checking string palindrome\n",
    "str_1 = input(\"Enter the string to check if it is a palindrome:\")\n",
    "\n",
    "\n",
    "rev_str = reversed(str_1)\n",
    "\n",
    "if list(str_1) == list(rev_str):\n",
    "\n",
    "              print (\"The string is a palindrome\")\n",
    "\n",
    "else:\n",
    "\n",
    "              print (\"The string is not a palindrome\")\n"
   ]
  },
  {
   "cell_type": "code",
   "execution_count": null,
   "id": "752ceb67-01af-4175-b155-7b03d71b0ed4",
   "metadata": {},
   "outputs": [],
   "source": [
    "#program that takes a string as input and removes all the spaces from it.Print the modified string without spaces.\n",
    "def remove(string):\n",
    "    return string.replace(\" \", \"\")\n",
    " \n",
    "\n",
    "string =input(\"enter your string:\")\n",
    "print(remove(string))"
   ]
  },
  {
   "cell_type": "code",
   "execution_count": null,
   "id": "b1764d93-b8f0-4f7f-abd2-bb9cc08566fd",
   "metadata": {},
   "outputs": [],
   "source": []
  }
 ],
 "metadata": {
  "kernelspec": {
   "display_name": "Python 3 (ipykernel)",
   "language": "python",
   "name": "python3"
  },
  "language_info": {
   "codemirror_mode": {
    "name": "ipython",
    "version": 3
   },
   "file_extension": ".py",
   "mimetype": "text/x-python",
   "name": "python",
   "nbconvert_exporter": "python",
   "pygments_lexer": "ipython3",
   "version": "3.10.8"
  }
 },
 "nbformat": 4,
 "nbformat_minor": 5
}
